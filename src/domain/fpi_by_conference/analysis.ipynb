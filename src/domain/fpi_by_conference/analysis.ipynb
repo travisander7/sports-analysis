{
 "cells": [
  {
   "cell_type": "code",
   "execution_count": null,
   "metadata": {},
   "outputs": [],
   "source": [
    "import polars as pl\n",
    "import altair as alt"
   ]
  },
  {
   "cell_type": "code",
   "execution_count": null,
   "metadata": {},
   "outputs": [],
   "source": [
    "pl.Config.set_tbl_rows(15)"
   ]
  },
  {
   "cell_type": "code",
   "execution_count": null,
   "metadata": {},
   "outputs": [],
   "source": [
    "df = pl.read_parquet('data/fpi_by_conference/2024_fpi.parquet')"
   ]
  },
  {
   "cell_type": "code",
   "execution_count": null,
   "metadata": {},
   "outputs": [],
   "source": [
    "fpi_summary_by_conference = (\n",
    "    df\n",
    "    .group_by('conference')\n",
    "    .agg(\n",
    "        mean=pl.mean('fpi'),\n",
    "        median=pl.median('fpi'),\n",
    "        std=pl.std('fpi'),\n",
    "    )\n",
    "    .sort('mean', descending=True)\n",
    ")\n",
    "fpi_summary_by_conference"
   ]
  },
  {
   "cell_type": "code",
   "execution_count": null,
   "metadata": {},
   "outputs": [],
   "source": [
    "sorting_order = (\n",
    "    fpi_summary_by_conference\n",
    "    .get_column('conference')\n",
    "    .to_list()\n",
    ")\n",
    "\n",
    "chart = (\n",
    "    df\n",
    "    .join(fpi_summary_by_conference, on='conference')\n",
    "    .plot.point(\n",
    "        x=alt.X('conference', sort=sorting_order),\n",
    "        y='fpi',\n",
    "    )\n",
    "    .mark_point(shape='circle', size=10)\n",
    "    .properties(width=600, height=400)\n",
    ")\n",
    "\n",
    "chart"
   ]
  }
 ],
 "metadata": {
  "kernelspec": {
   "display_name": "venv",
   "language": "python",
   "name": "python3"
  },
  "language_info": {
   "codemirror_mode": {
    "name": "ipython",
    "version": 3
   },
   "file_extension": ".py",
   "mimetype": "text/x-python",
   "name": "python",
   "nbconvert_exporter": "python",
   "pygments_lexer": "ipython3",
   "version": "3.9.6"
  }
 },
 "nbformat": 4,
 "nbformat_minor": 2
}
